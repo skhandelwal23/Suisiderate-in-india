{
 "cells": [
  {
   "cell_type": "code",
   "execution_count": 5,
   "metadata": {},
   "outputs": [
    {
     "data": {
      "text/html": [
       "<div>\n",
       "<style scoped>\n",
       "    .dataframe tbody tr th:only-of-type {\n",
       "        vertical-align: middle;\n",
       "    }\n",
       "\n",
       "    .dataframe tbody tr th {\n",
       "        vertical-align: top;\n",
       "    }\n",
       "\n",
       "    .dataframe thead th {\n",
       "        text-align: right;\n",
       "    }\n",
       "</style>\n",
       "<table border=\"1\" class=\"dataframe\">\n",
       "  <thead>\n",
       "    <tr style=\"text-align: right;\">\n",
       "      <th></th>\n",
       "      <th>State</th>\n",
       "      <th>Year</th>\n",
       "      <th>Type_code</th>\n",
       "      <th>Type</th>\n",
       "      <th>Gender</th>\n",
       "      <th>Age_group</th>\n",
       "      <th>Total</th>\n",
       "    </tr>\n",
       "  </thead>\n",
       "  <tbody>\n",
       "    <tr>\n",
       "      <th>0</th>\n",
       "      <td>A &amp; N Islands</td>\n",
       "      <td>2001</td>\n",
       "      <td>Causes</td>\n",
       "      <td>Illness (Aids/STD)</td>\n",
       "      <td>Female</td>\n",
       "      <td>0-14</td>\n",
       "      <td>0</td>\n",
       "    </tr>\n",
       "    <tr>\n",
       "      <th>1</th>\n",
       "      <td>A &amp; N Islands</td>\n",
       "      <td>2001</td>\n",
       "      <td>Causes</td>\n",
       "      <td>Bankruptcy or Sudden change in Economic</td>\n",
       "      <td>Female</td>\n",
       "      <td>0-14</td>\n",
       "      <td>0</td>\n",
       "    </tr>\n",
       "    <tr>\n",
       "      <th>2</th>\n",
       "      <td>A &amp; N Islands</td>\n",
       "      <td>2001</td>\n",
       "      <td>Causes</td>\n",
       "      <td>Cancellation/Non-Settlement of Marriage</td>\n",
       "      <td>Female</td>\n",
       "      <td>0-14</td>\n",
       "      <td>0</td>\n",
       "    </tr>\n",
       "    <tr>\n",
       "      <th>3</th>\n",
       "      <td>A &amp; N Islands</td>\n",
       "      <td>2001</td>\n",
       "      <td>Causes</td>\n",
       "      <td>Physical Abuse (Rape/Incest Etc.)</td>\n",
       "      <td>Female</td>\n",
       "      <td>0-14</td>\n",
       "      <td>0</td>\n",
       "    </tr>\n",
       "    <tr>\n",
       "      <th>4</th>\n",
       "      <td>A &amp; N Islands</td>\n",
       "      <td>2001</td>\n",
       "      <td>Causes</td>\n",
       "      <td>Dowry Dispute</td>\n",
       "      <td>Female</td>\n",
       "      <td>0-14</td>\n",
       "      <td>0</td>\n",
       "    </tr>\n",
       "  </tbody>\n",
       "</table>\n",
       "</div>"
      ],
      "text/plain": [
       "           State  Year Type_code                                     Type  \\\n",
       "0  A & N Islands  2001    Causes                       Illness (Aids/STD)   \n",
       "1  A & N Islands  2001    Causes  Bankruptcy or Sudden change in Economic   \n",
       "2  A & N Islands  2001    Causes  Cancellation/Non-Settlement of Marriage   \n",
       "3  A & N Islands  2001    Causes        Physical Abuse (Rape/Incest Etc.)   \n",
       "4  A & N Islands  2001    Causes                            Dowry Dispute   \n",
       "\n",
       "   Gender Age_group  Total  \n",
       "0  Female      0-14      0  \n",
       "1  Female      0-14      0  \n",
       "2  Female      0-14      0  \n",
       "3  Female      0-14      0  \n",
       "4  Female      0-14      0  "
      ]
     },
     "execution_count": 5,
     "metadata": {},
     "output_type": "execute_result"
    }
   ],
   "source": [
    "# Data analysis or Description of the data\n",
    "import pandas as pd\n",
    "df=pd.read_csv(\"Suicides in India 2001-2012.csv\")\n",
    "df.head()\n",
    "\n"
   ]
  },
  {
   "cell_type": "code",
   "execution_count": 7,
   "metadata": {},
   "outputs": [
    {
     "name": "stdout",
     "output_type": "stream",
     "text": [
      "                Year          Total\n",
      "count  237519.000000  237519.000000\n",
      "mean     2006.500448      55.034477\n",
      "std         3.452240     792.749038\n",
      "min      2001.000000       0.000000\n",
      "25%      2004.000000       0.000000\n",
      "50%      2007.000000       0.000000\n",
      "75%      2010.000000       6.000000\n",
      "max      2012.000000   63343.000000\n"
     ]
    },
    {
     "data": {
      "text/plain": [
       "State        False\n",
       "Year         False\n",
       "Type_code    False\n",
       "Type         False\n",
       "Gender       False\n",
       "Age_group    False\n",
       "Total        False\n",
       "dtype: bool"
      ]
     },
     "execution_count": 7,
     "metadata": {},
     "output_type": "execute_result"
    }
   ],
   "source": [
    "df.tail()\n"
   ]
  },
  {
   "cell_type": "code",
   "execution_count": 11,
   "metadata": {},
   "outputs": [
    {
     "data": {
      "text/plain": [
       "<bound method DataFrame.info of                 State  Year                                      Type  Gender  \\\n",
       "0       A & N Islands  2001                        Illness (Aids/STD)  Female   \n",
       "1       A & N Islands  2001   Bankruptcy or Sudden change in Economic  Female   \n",
       "2       A & N Islands  2001   Cancellation/Non-Settlement of Marriage  Female   \n",
       "3       A & N Islands  2001         Physical Abuse (Rape/Incest Etc.)  Female   \n",
       "4       A & N Islands  2001                             Dowry Dispute  Female   \n",
       "5       A & N Islands  2001                           Family Problems  Female   \n",
       "6       A & N Islands  2001       Ideological Causes/Hero Worshipping  Female   \n",
       "7       A & N Islands  2001                   Other Prolonged Illness  Female   \n",
       "8       A & N Islands  2001                          Property Dispute  Female   \n",
       "9       A & N Islands  2001                 Fall in Social Reputation  Female   \n",
       "10      A & N Islands  2001                    Illegitimate Pregnancy  Female   \n",
       "11      A & N Islands  2001                    Failure in Examination  Female   \n",
       "12      A & N Islands  2001                   Insanity/Mental Illness  Female   \n",
       "13      A & N Islands  2001                              Love Affairs  Female   \n",
       "14      A & N Islands  2001               Professional/Career Problem  Female   \n",
       "15      A & N Islands  2001                                   Divorce  Female   \n",
       "16      A & N Islands  2001                      Drug Abuse/Addiction  Female   \n",
       "17      A & N Islands  2001  Not having Children(Barrenness/Impotency  Female   \n",
       "18      A & N Islands  2001                          Causes Not known  Female   \n",
       "19      A & N Islands  2001                              Unemployment  Female   \n",
       "20      A & N Islands  2001             Other Causes (Please Specity)  Female   \n",
       "21      A & N Islands  2001                                   Poverty  Female   \n",
       "22      A & N Islands  2001                      Death of Dear Person  Female   \n",
       "23      A & N Islands  2001                                    Cancer  Female   \n",
       "24      A & N Islands  2001                Suspected/Illicit Relation  Female   \n",
       "25      A & N Islands  2001                                 Paralysis  Female   \n",
       "26      A & N Islands  2001                          Property Dispute    Male   \n",
       "27      A & N Islands  2001                              Unemployment    Male   \n",
       "28      A & N Islands  2001                                   Poverty    Male   \n",
       "29      A & N Islands  2001                           Family Problems    Male   \n",
       "...               ...   ...                                       ...     ...   \n",
       "237489    West Bengal  2012         Self-employed (Business activity)  Female   \n",
       "237490    West Bengal  2012              Farming/Agriculture Activity  Female   \n",
       "237491    West Bengal  2012                                House Wife  Female   \n",
       "237492    West Bengal  2012                     Professional Activity  Female   \n",
       "237493    West Bengal  2012                   Others (Please Specify)  Female   \n",
       "237494    West Bengal  2012                 Public Sector Undertaking  Female   \n",
       "237495    West Bengal  2012                                Unemployed  Female   \n",
       "237496    West Bengal  2012                                   Student  Female   \n",
       "237497    West Bengal  2012                      Service (Government)  Female   \n",
       "237498    West Bengal  2012                 Public Sector Undertaking    Male   \n",
       "237499    West Bengal  2012         Self-employed (Business activity)    Male   \n",
       "237500    West Bengal  2012                            Retired Person    Male   \n",
       "237501    West Bengal  2012                                Unemployed    Male   \n",
       "237502    West Bengal  2012                                House Wife    Male   \n",
       "237503    West Bengal  2012                   Others (Please Specify)    Male   \n",
       "237504    West Bengal  2012              Farming/Agriculture Activity    Male   \n",
       "237505    West Bengal  2012                                   Student    Male   \n",
       "237506    West Bengal  2012                         Service (Private)    Male   \n",
       "237507    West Bengal  2012                     Professional Activity    Male   \n",
       "237508    West Bengal  2012                      Service (Government)    Male   \n",
       "237509    West Bengal  2012                                 Seperated  Female   \n",
       "237510    West Bengal  2012                                   Married  Female   \n",
       "237511    West Bengal  2012                                  Divorcee  Female   \n",
       "237512    West Bengal  2012                           Widowed/Widower  Female   \n",
       "237513    West Bengal  2012                             Never Married  Female   \n",
       "237514    West Bengal  2012                                 Seperated    Male   \n",
       "237515    West Bengal  2012                           Widowed/Widower    Male   \n",
       "237516    West Bengal  2012                                   Married    Male   \n",
       "237517    West Bengal  2012                                  Divorcee    Male   \n",
       "237518    West Bengal  2012                             Never Married    Male   \n",
       "\n",
       "       Age_group  Total  \n",
       "0           0-14      0  \n",
       "1           0-14      0  \n",
       "2           0-14      0  \n",
       "3           0-14      0  \n",
       "4           0-14      0  \n",
       "5           0-14      0  \n",
       "6           0-14      0  \n",
       "7           0-14      0  \n",
       "8           0-14      0  \n",
       "9           0-14      0  \n",
       "10          0-14      0  \n",
       "11          0-14      0  \n",
       "12          0-14      0  \n",
       "13          0-14      1  \n",
       "14          0-14      0  \n",
       "15          0-14      0  \n",
       "16          0-14      0  \n",
       "17          0-14      0  \n",
       "18          0-14      0  \n",
       "19          0-14      0  \n",
       "20          0-14      1  \n",
       "21          0-14      0  \n",
       "22          0-14      0  \n",
       "23          0-14      0  \n",
       "24          0-14      0  \n",
       "25          0-14      0  \n",
       "26          0-14      0  \n",
       "27          0-14      0  \n",
       "28          0-14      0  \n",
       "29          0-14      0  \n",
       "...          ...    ...  \n",
       "237489       60+      0  \n",
       "237490       60+      0  \n",
       "237491       60+      0  \n",
       "237492       60+      0  \n",
       "237493       60+      0  \n",
       "237494       60+      0  \n",
       "237495       60+      0  \n",
       "237496       60+      0  \n",
       "237497       60+      0  \n",
       "237498       60+      0  \n",
       "237499       60+      0  \n",
       "237500       60+      0  \n",
       "237501       60+      0  \n",
       "237502       60+      0  \n",
       "237503       60+      0  \n",
       "237504       60+      0  \n",
       "237505       60+      0  \n",
       "237506       60+      0  \n",
       "237507       60+      0  \n",
       "237508       60+      0  \n",
       "237509    0-100+    200  \n",
       "237510    0-100+   3927  \n",
       "237511    0-100+    182  \n",
       "237512    0-100+    455  \n",
       "237513    0-100+   1513  \n",
       "237514    0-100+    149  \n",
       "237515    0-100+    233  \n",
       "237516    0-100+   5451  \n",
       "237517    0-100+    189  \n",
       "237518    0-100+   2658  \n",
       "\n",
       "[237519 rows x 6 columns]>"
      ]
     },
     "execution_count": 11,
     "metadata": {},
     "output_type": "execute_result"
    }
   ],
   "source": [
    "df.shape\n",
    "\n"
   ]
  },
  {
   "cell_type": "code",
   "execution_count": 12,
   "metadata": {},
   "outputs": [
    {
     "data": {
      "text/plain": [
       "<bound method DataFrame.info of                 State  Year                                      Type  Gender  \\\n",
       "0       A & N Islands  2001                        Illness (Aids/STD)  Female   \n",
       "1       A & N Islands  2001   Bankruptcy or Sudden change in Economic  Female   \n",
       "2       A & N Islands  2001   Cancellation/Non-Settlement of Marriage  Female   \n",
       "3       A & N Islands  2001         Physical Abuse (Rape/Incest Etc.)  Female   \n",
       "4       A & N Islands  2001                             Dowry Dispute  Female   \n",
       "5       A & N Islands  2001                           Family Problems  Female   \n",
       "6       A & N Islands  2001       Ideological Causes/Hero Worshipping  Female   \n",
       "7       A & N Islands  2001                   Other Prolonged Illness  Female   \n",
       "8       A & N Islands  2001                          Property Dispute  Female   \n",
       "9       A & N Islands  2001                 Fall in Social Reputation  Female   \n",
       "10      A & N Islands  2001                    Illegitimate Pregnancy  Female   \n",
       "11      A & N Islands  2001                    Failure in Examination  Female   \n",
       "12      A & N Islands  2001                   Insanity/Mental Illness  Female   \n",
       "13      A & N Islands  2001                              Love Affairs  Female   \n",
       "14      A & N Islands  2001               Professional/Career Problem  Female   \n",
       "15      A & N Islands  2001                                   Divorce  Female   \n",
       "16      A & N Islands  2001                      Drug Abuse/Addiction  Female   \n",
       "17      A & N Islands  2001  Not having Children(Barrenness/Impotency  Female   \n",
       "18      A & N Islands  2001                          Causes Not known  Female   \n",
       "19      A & N Islands  2001                              Unemployment  Female   \n",
       "20      A & N Islands  2001             Other Causes (Please Specity)  Female   \n",
       "21      A & N Islands  2001                                   Poverty  Female   \n",
       "22      A & N Islands  2001                      Death of Dear Person  Female   \n",
       "23      A & N Islands  2001                                    Cancer  Female   \n",
       "24      A & N Islands  2001                Suspected/Illicit Relation  Female   \n",
       "25      A & N Islands  2001                                 Paralysis  Female   \n",
       "26      A & N Islands  2001                          Property Dispute    Male   \n",
       "27      A & N Islands  2001                              Unemployment    Male   \n",
       "28      A & N Islands  2001                                   Poverty    Male   \n",
       "29      A & N Islands  2001                           Family Problems    Male   \n",
       "...               ...   ...                                       ...     ...   \n",
       "237489    West Bengal  2012         Self-employed (Business activity)  Female   \n",
       "237490    West Bengal  2012              Farming/Agriculture Activity  Female   \n",
       "237491    West Bengal  2012                                House Wife  Female   \n",
       "237492    West Bengal  2012                     Professional Activity  Female   \n",
       "237493    West Bengal  2012                   Others (Please Specify)  Female   \n",
       "237494    West Bengal  2012                 Public Sector Undertaking  Female   \n",
       "237495    West Bengal  2012                                Unemployed  Female   \n",
       "237496    West Bengal  2012                                   Student  Female   \n",
       "237497    West Bengal  2012                      Service (Government)  Female   \n",
       "237498    West Bengal  2012                 Public Sector Undertaking    Male   \n",
       "237499    West Bengal  2012         Self-employed (Business activity)    Male   \n",
       "237500    West Bengal  2012                            Retired Person    Male   \n",
       "237501    West Bengal  2012                                Unemployed    Male   \n",
       "237502    West Bengal  2012                                House Wife    Male   \n",
       "237503    West Bengal  2012                   Others (Please Specify)    Male   \n",
       "237504    West Bengal  2012              Farming/Agriculture Activity    Male   \n",
       "237505    West Bengal  2012                                   Student    Male   \n",
       "237506    West Bengal  2012                         Service (Private)    Male   \n",
       "237507    West Bengal  2012                     Professional Activity    Male   \n",
       "237508    West Bengal  2012                      Service (Government)    Male   \n",
       "237509    West Bengal  2012                                 Seperated  Female   \n",
       "237510    West Bengal  2012                                   Married  Female   \n",
       "237511    West Bengal  2012                                  Divorcee  Female   \n",
       "237512    West Bengal  2012                           Widowed/Widower  Female   \n",
       "237513    West Bengal  2012                             Never Married  Female   \n",
       "237514    West Bengal  2012                                 Seperated    Male   \n",
       "237515    West Bengal  2012                           Widowed/Widower    Male   \n",
       "237516    West Bengal  2012                                   Married    Male   \n",
       "237517    West Bengal  2012                                  Divorcee    Male   \n",
       "237518    West Bengal  2012                             Never Married    Male   \n",
       "\n",
       "       Age_group  Total  \n",
       "0           0-14      0  \n",
       "1           0-14      0  \n",
       "2           0-14      0  \n",
       "3           0-14      0  \n",
       "4           0-14      0  \n",
       "5           0-14      0  \n",
       "6           0-14      0  \n",
       "7           0-14      0  \n",
       "8           0-14      0  \n",
       "9           0-14      0  \n",
       "10          0-14      0  \n",
       "11          0-14      0  \n",
       "12          0-14      0  \n",
       "13          0-14      1  \n",
       "14          0-14      0  \n",
       "15          0-14      0  \n",
       "16          0-14      0  \n",
       "17          0-14      0  \n",
       "18          0-14      0  \n",
       "19          0-14      0  \n",
       "20          0-14      1  \n",
       "21          0-14      0  \n",
       "22          0-14      0  \n",
       "23          0-14      0  \n",
       "24          0-14      0  \n",
       "25          0-14      0  \n",
       "26          0-14      0  \n",
       "27          0-14      0  \n",
       "28          0-14      0  \n",
       "29          0-14      0  \n",
       "...          ...    ...  \n",
       "237489       60+      0  \n",
       "237490       60+      0  \n",
       "237491       60+      0  \n",
       "237492       60+      0  \n",
       "237493       60+      0  \n",
       "237494       60+      0  \n",
       "237495       60+      0  \n",
       "237496       60+      0  \n",
       "237497       60+      0  \n",
       "237498       60+      0  \n",
       "237499       60+      0  \n",
       "237500       60+      0  \n",
       "237501       60+      0  \n",
       "237502       60+      0  \n",
       "237503       60+      0  \n",
       "237504       60+      0  \n",
       "237505       60+      0  \n",
       "237506       60+      0  \n",
       "237507       60+      0  \n",
       "237508       60+      0  \n",
       "237509    0-100+    200  \n",
       "237510    0-100+   3927  \n",
       "237511    0-100+    182  \n",
       "237512    0-100+    455  \n",
       "237513    0-100+   1513  \n",
       "237514    0-100+    149  \n",
       "237515    0-100+    233  \n",
       "237516    0-100+   5451  \n",
       "237517    0-100+    189  \n",
       "237518    0-100+   2658  \n",
       "\n",
       "[237519 rows x 6 columns]>"
      ]
     },
     "execution_count": 12,
     "metadata": {},
     "output_type": "execute_result"
    }
   ],
   "source": [
    "df.info"
   ]
  },
  {
   "cell_type": "code",
   "execution_count": 13,
   "metadata": {},
   "outputs": [
    {
     "name": "stdout",
     "output_type": "stream",
     "text": [
      "                Year          Total\n",
      "count  237519.000000  237519.000000\n",
      "mean     2006.500448      55.034477\n",
      "std         3.452240     792.749038\n",
      "min      2001.000000       0.000000\n",
      "25%      2004.000000       0.000000\n",
      "50%      2007.000000       0.000000\n",
      "75%      2010.000000       6.000000\n",
      "max      2012.000000   63343.000000\n"
     ]
    }
   ],
   "source": [
    "desc=df.describe()\n",
    "print(desc)\n"
   ]
  },
  {
   "cell_type": "code",
   "execution_count": 14,
   "metadata": {},
   "outputs": [
    {
     "data": {
      "text/plain": [
       "State        False\n",
       "Year         False\n",
       "Type         False\n",
       "Gender       False\n",
       "Age_group    False\n",
       "Total        False\n",
       "dtype: bool"
      ]
     },
     "execution_count": 14,
     "metadata": {},
     "output_type": "execute_result"
    }
   ],
   "source": [
    "df.isnull().any()\n"
   ]
  },
  {
   "cell_type": "code",
   "execution_count": 19,
   "metadata": {},
   "outputs": [
    {
     "data": {
      "text/plain": [
       "State        38\n",
       "Year         12\n",
       "Type         69\n",
       "Gender        2\n",
       "Age_group     6\n",
       "dtype: int64"
      ]
     },
     "execution_count": 19,
     "metadata": {},
     "output_type": "execute_result"
    }
   ],
   "source": [
    "df[['State', 'Year','Type','Gender','Age_group']].nunique()\n"
   ]
  },
  {
   "cell_type": "code",
   "execution_count": 20,
   "metadata": {},
   "outputs": [
    {
     "data": {
      "text/html": [
       "<div>\n",
       "<style scoped>\n",
       "    .dataframe tbody tr th:only-of-type {\n",
       "        vertical-align: middle;\n",
       "    }\n",
       "\n",
       "    .dataframe tbody tr th {\n",
       "        vertical-align: top;\n",
       "    }\n",
       "\n",
       "    .dataframe thead th {\n",
       "        text-align: right;\n",
       "    }\n",
       "</style>\n",
       "<table border=\"1\" class=\"dataframe\">\n",
       "  <thead>\n",
       "    <tr style=\"text-align: right;\">\n",
       "      <th></th>\n",
       "      <th>Total</th>\n",
       "    </tr>\n",
       "    <tr>\n",
       "      <th>Gender</th>\n",
       "      <th></th>\n",
       "    </tr>\n",
       "  </thead>\n",
       "  <tbody>\n",
       "    <tr>\n",
       "      <th>Female</th>\n",
       "      <td>4702974</td>\n",
       "    </tr>\n",
       "    <tr>\n",
       "      <th>Male</th>\n",
       "      <td>8368760</td>\n",
       "    </tr>\n",
       "  </tbody>\n",
       "</table>\n",
       "</div>"
      ],
      "text/plain": [
       "          Total\n",
       "Gender         \n",
       "Female  4702974\n",
       "Male    8368760"
      ]
     },
     "execution_count": 20,
     "metadata": {},
     "output_type": "execute_result"
    }
   ],
   "source": [
    "df.groupby('Gender').agg({'Total': 'sum'})\n"
   ]
  },
  {
   "cell_type": "code",
   "execution_count": 22,
   "metadata": {},
   "outputs": [
    {
     "name": "stdout",
     "output_type": "stream",
     "text": [
      "                     Total\n",
      "State                     \n",
      "A & N Islands         8109\n",
      "Andhra Pradesh      814059\n",
      "Arunachal Pradesh     6633\n",
      "Assam               172276\n",
      "Bihar                46214\n",
      "Chandigarh            5164\n",
      "Chhattisgarh        302354\n",
      "D & N Haveli          3430\n",
      "Daman & Diu           1391\n",
      "Delhi (Ut)           84272\n",
      "Goa                  17363\n",
      "Gujarat             330858\n",
      "Haryana             147176\n",
      "Himachal Pradesh     26562\n",
      "Jammu & Kashmir      14821\n",
      "Jharkhand            49720\n",
      "Karnataka           734825\n",
      "Kerala              538946\n",
      "Lakshadweep             50\n",
      "Madhya Pradesh      451535\n",
      "Maharashtra         901945\n",
      "Manipur               2102\n",
      "Meghalaya             5415\n",
      "Mizoram               4154\n",
      "Nagaland              1728\n",
      "Odisha              267234\n",
      "Puducherry           32144\n",
      "Punjab               46350\n",
      "Rajasthan           255134\n",
      "Sikkim                9606\n",
      "Tamil Nadu          818691\n",
      "Total (All India)  2911862\n",
      "Total (States)     2858026\n",
      "Total (Uts)          53836\n",
      "Tripura              45965\n",
      "Uttar Pradesh       233352\n",
      "Uttarakhand          18496\n",
      "West Bengal         849936\n"
     ]
    }
   ],
   "source": [
    "statewise=df.groupby('State').agg({'Total': 'sum'})\n",
    "print(statewise)"
   ]
  },
  {
   "cell_type": "code",
   "execution_count": 23,
   "metadata": {},
   "outputs": [
    {
     "data": {
      "text/html": [
       "<div>\n",
       "<style scoped>\n",
       "    .dataframe tbody tr th:only-of-type {\n",
       "        vertical-align: middle;\n",
       "    }\n",
       "\n",
       "    .dataframe tbody tr th {\n",
       "        vertical-align: top;\n",
       "    }\n",
       "\n",
       "    .dataframe thead th {\n",
       "        text-align: right;\n",
       "    }\n",
       "</style>\n",
       "<table border=\"1\" class=\"dataframe\">\n",
       "  <thead>\n",
       "    <tr style=\"text-align: right;\">\n",
       "      <th></th>\n",
       "      <th>Total</th>\n",
       "    </tr>\n",
       "    <tr>\n",
       "      <th>State</th>\n",
       "      <th></th>\n",
       "    </tr>\n",
       "  </thead>\n",
       "  <tbody>\n",
       "    <tr>\n",
       "      <th>Lakshadweep</th>\n",
       "      <td>50</td>\n",
       "    </tr>\n",
       "    <tr>\n",
       "      <th>Daman &amp; Diu</th>\n",
       "      <td>1391</td>\n",
       "    </tr>\n",
       "    <tr>\n",
       "      <th>Nagaland</th>\n",
       "      <td>1728</td>\n",
       "    </tr>\n",
       "    <tr>\n",
       "      <th>Manipur</th>\n",
       "      <td>2102</td>\n",
       "    </tr>\n",
       "    <tr>\n",
       "      <th>D &amp; N Haveli</th>\n",
       "      <td>3430</td>\n",
       "    </tr>\n",
       "    <tr>\n",
       "      <th>Mizoram</th>\n",
       "      <td>4154</td>\n",
       "    </tr>\n",
       "    <tr>\n",
       "      <th>Chandigarh</th>\n",
       "      <td>5164</td>\n",
       "    </tr>\n",
       "    <tr>\n",
       "      <th>Meghalaya</th>\n",
       "      <td>5415</td>\n",
       "    </tr>\n",
       "    <tr>\n",
       "      <th>Arunachal Pradesh</th>\n",
       "      <td>6633</td>\n",
       "    </tr>\n",
       "    <tr>\n",
       "      <th>A &amp; N Islands</th>\n",
       "      <td>8109</td>\n",
       "    </tr>\n",
       "    <tr>\n",
       "      <th>Sikkim</th>\n",
       "      <td>9606</td>\n",
       "    </tr>\n",
       "    <tr>\n",
       "      <th>Jammu &amp; Kashmir</th>\n",
       "      <td>14821</td>\n",
       "    </tr>\n",
       "    <tr>\n",
       "      <th>Goa</th>\n",
       "      <td>17363</td>\n",
       "    </tr>\n",
       "    <tr>\n",
       "      <th>Uttarakhand</th>\n",
       "      <td>18496</td>\n",
       "    </tr>\n",
       "    <tr>\n",
       "      <th>Himachal Pradesh</th>\n",
       "      <td>26562</td>\n",
       "    </tr>\n",
       "    <tr>\n",
       "      <th>Puducherry</th>\n",
       "      <td>32144</td>\n",
       "    </tr>\n",
       "    <tr>\n",
       "      <th>Tripura</th>\n",
       "      <td>45965</td>\n",
       "    </tr>\n",
       "    <tr>\n",
       "      <th>Bihar</th>\n",
       "      <td>46214</td>\n",
       "    </tr>\n",
       "    <tr>\n",
       "      <th>Punjab</th>\n",
       "      <td>46350</td>\n",
       "    </tr>\n",
       "    <tr>\n",
       "      <th>Jharkhand</th>\n",
       "      <td>49720</td>\n",
       "    </tr>\n",
       "    <tr>\n",
       "      <th>Total (Uts)</th>\n",
       "      <td>53836</td>\n",
       "    </tr>\n",
       "    <tr>\n",
       "      <th>Delhi (Ut)</th>\n",
       "      <td>84272</td>\n",
       "    </tr>\n",
       "    <tr>\n",
       "      <th>Haryana</th>\n",
       "      <td>147176</td>\n",
       "    </tr>\n",
       "    <tr>\n",
       "      <th>Assam</th>\n",
       "      <td>172276</td>\n",
       "    </tr>\n",
       "    <tr>\n",
       "      <th>Uttar Pradesh</th>\n",
       "      <td>233352</td>\n",
       "    </tr>\n",
       "    <tr>\n",
       "      <th>Rajasthan</th>\n",
       "      <td>255134</td>\n",
       "    </tr>\n",
       "    <tr>\n",
       "      <th>Odisha</th>\n",
       "      <td>267234</td>\n",
       "    </tr>\n",
       "    <tr>\n",
       "      <th>Chhattisgarh</th>\n",
       "      <td>302354</td>\n",
       "    </tr>\n",
       "    <tr>\n",
       "      <th>Gujarat</th>\n",
       "      <td>330858</td>\n",
       "    </tr>\n",
       "    <tr>\n",
       "      <th>Madhya Pradesh</th>\n",
       "      <td>451535</td>\n",
       "    </tr>\n",
       "    <tr>\n",
       "      <th>Kerala</th>\n",
       "      <td>538946</td>\n",
       "    </tr>\n",
       "    <tr>\n",
       "      <th>Karnataka</th>\n",
       "      <td>734825</td>\n",
       "    </tr>\n",
       "    <tr>\n",
       "      <th>Andhra Pradesh</th>\n",
       "      <td>814059</td>\n",
       "    </tr>\n",
       "    <tr>\n",
       "      <th>Tamil Nadu</th>\n",
       "      <td>818691</td>\n",
       "    </tr>\n",
       "    <tr>\n",
       "      <th>West Bengal</th>\n",
       "      <td>849936</td>\n",
       "    </tr>\n",
       "    <tr>\n",
       "      <th>Maharashtra</th>\n",
       "      <td>901945</td>\n",
       "    </tr>\n",
       "    <tr>\n",
       "      <th>Total (States)</th>\n",
       "      <td>2858026</td>\n",
       "    </tr>\n",
       "    <tr>\n",
       "      <th>Total (All India)</th>\n",
       "      <td>2911862</td>\n",
       "    </tr>\n",
       "  </tbody>\n",
       "</table>\n",
       "</div>"
      ],
      "text/plain": [
       "                     Total\n",
       "State                     \n",
       "Lakshadweep             50\n",
       "Daman & Diu           1391\n",
       "Nagaland              1728\n",
       "Manipur               2102\n",
       "D & N Haveli          3430\n",
       "Mizoram               4154\n",
       "Chandigarh            5164\n",
       "Meghalaya             5415\n",
       "Arunachal Pradesh     6633\n",
       "A & N Islands         8109\n",
       "Sikkim                9606\n",
       "Jammu & Kashmir      14821\n",
       "Goa                  17363\n",
       "Uttarakhand          18496\n",
       "Himachal Pradesh     26562\n",
       "Puducherry           32144\n",
       "Tripura              45965\n",
       "Bihar                46214\n",
       "Punjab               46350\n",
       "Jharkhand            49720\n",
       "Total (Uts)          53836\n",
       "Delhi (Ut)           84272\n",
       "Haryana             147176\n",
       "Assam               172276\n",
       "Uttar Pradesh       233352\n",
       "Rajasthan           255134\n",
       "Odisha              267234\n",
       "Chhattisgarh        302354\n",
       "Gujarat             330858\n",
       "Madhya Pradesh      451535\n",
       "Kerala              538946\n",
       "Karnataka           734825\n",
       "Andhra Pradesh      814059\n",
       "Tamil Nadu          818691\n",
       "West Bengal         849936\n",
       "Maharashtra         901945\n",
       "Total (States)     2858026\n",
       "Total (All India)  2911862"
      ]
     },
     "execution_count": 23,
     "metadata": {},
     "output_type": "execute_result"
    }
   ],
   "source": [
    "statewise.sort_values('Total',axis=0)\n"
   ]
  },
  {
   "cell_type": "code",
   "execution_count": 35,
   "metadata": {},
   "outputs": [
    {
     "name": "stdout",
     "output_type": "stream",
     "text": [
      "['A & N Islands' 'Andhra Pradesh' 'Arunachal Pradesh' 'Assam' 'Bihar'\n",
      " 'Chandigarh' 'Chhattisgarh' 'D & N Haveli' 'Daman & Diu' 'Delhi (Ut)'\n",
      " 'Goa' 'Gujarat' 'Haryana' 'Himachal Pradesh' 'Jammu & Kashmir'\n",
      " 'Jharkhand' 'Karnataka' 'Kerala' 'Lakshadweep' 'Madhya Pradesh'\n",
      " 'Maharashtra' 'Manipur' 'Meghalaya' 'Mizoram' 'Nagaland' 'Odisha'\n",
      " 'Puducherry' 'Punjab' 'Rajasthan' 'Sikkim' 'Tamil Nadu'\n",
      " 'Total (All India)' 'Total (States)' 'Total (Uts)' 'Tripura'\n",
      " 'Uttar Pradesh' 'Uttarakhand' 'West Bengal']\n"
     ]
    },
    {
     "data": {
      "text/plain": [
       "[<matplotlib.lines.Line2D at 0x1d387f6b7b8>]"
      ]
     },
     "execution_count": 35,
     "metadata": {},
     "output_type": "execute_result"
    },
    {
     "data": {
      "image/png": "[encoded data removed]",
      "text/plain": [
       "<Figure size 432x288 with 1 Axes>"
      ]
     },
     "metadata": {},
     "output_type": "display_data"
    }
   ],
   "source": [
    "#Plotting the data\n",
    "import matplotlib\n",
    "import matplotlib.pyplot as plt\n",
    "x=df['State'].unique()\n",
    "print(x)\n",
    "plt.plot(['A & N Islands' 'Andhra Pradesh' 'Arunachal Pradesh' 'Assam' 'Bihar'\n",
    " 'Chandigarh' 'Chhattisgarh' 'D & N Haveli' 'Daman & Diu' 'Delhi (Ut)'\n",
    " 'Goa' 'Gujarat' 'Haryana' 'Himachal Pradesh' 'Jammu & Kashmir'\n",
    " 'Jharkhand' 'Karnataka' 'Kerala' 'Lakshadweep' 'Madhya Pradesh'\n",
    " 'Maharashtra' 'Manipur' 'Meghalaya' 'Mizoram' 'Nagaland' 'Odisha'\n",
    " 'Puducherry' 'Punjab' 'Rajasthan' 'Sikkim' 'Tamil Nadu'\n",
    " 'Total (All India)' 'Total (States)' 'Total (Uts)' 'Tripura'\n",
    " 'Uttar Pradesh' 'Uttarakhand' 'West Bengal'])\n"
   ]
  },
  {
   "cell_type": "code",
   "execution_count": 32,
   "metadata": {},
   "outputs": [
    {
     "data": {
      "text/plain": [
       "<matplotlib.axes._subplots.AxesSubplot at 0x1d387edcc88>"
      ]
     },
     "execution_count": 32,
     "metadata": {},
     "output_type": "execute_result"
    },
    {
     "data": {
      "text/plain": [
       "<Figure size 432x288 with 0 Axes>"
      ]
     },
     "metadata": {},
     "output_type": "display_data"
    },
    {
     "data": {
      "image/png": "[encoded data removed]",
      "text/plain": [
       "<Figure size 432x288 with 1 Axes>"
      ]
     },
     "metadata": {},
     "output_type": "display_data"
    }
   ],
   "source": [
    "plt.figure()\n",
    "plt.plot\n",
    "df.groupby('State').agg({'Total': 'sum'}).plot()\n"
   ]
  },
  {
   "cell_type": "code",
   "execution_count": 36,
   "metadata": {},
   "outputs": [
    {
     "data": {
      "text/plain": [
       "<matplotlib.axes._subplots.AxesSubplot at 0x1d387f7f9b0>"
      ]
     },
     "execution_count": 36,
     "metadata": {},
     "output_type": "execute_result"
    },
    {
     "data": {
      "image/png": "[encoded data removed]",
      "text/plain": [
       "<Figure size 432x288 with 1 Axes>"
      ]
     },
     "metadata": {},
     "output_type": "display_data"
    }
   ],
   "source": [
    "df.groupby('State').agg({'Total': 'sum'}).plot()\n"
   ]
  },
  {
   "cell_type": "code",
   "execution_count": 37,
   "metadata": {},
   "outputs": [
    {
     "data": {
      "text/plain": [
       "<matplotlib.axes._subplots.AxesSubplot at 0x1d388ba7278>"
      ]
     },
     "execution_count": 37,
     "metadata": {},
     "output_type": "execute_result"
    },
    {
     "data": {
      "image/png": "[encoded data removed]",
      "text/plain": [
       "<Figure size 432x288 with 1 Axes>"
      ]
     },
     "metadata": {},
     "output_type": "display_data"
    }
   ],
   "source": [
    "df.groupby('Year').agg({'Total': 'sum'}).plot()\n"
   ]
  },
  {
   "cell_type": "code",
   "execution_count": 38,
   "metadata": {},
   "outputs": [
    {
     "name": "stdout",
     "output_type": "stream",
     "text": [
      "                                                  Total\n",
      "Type                                                   \n",
      "Not having Children (Barrenness/Impotency           766\n",
      "By Machine                                         1661\n",
      "Ideological Causes/Hero Worshipping                2118\n",
      "Illegitimate Pregnancy                             2494\n",
      "Bankruptcy or Sudden change in Economic Status     2655\n",
      "Physical Abuse (Rape/Incest Etc.)                  3992\n",
      "Divorce                                            4133\n",
      "By Self Infliction of injury                       5093\n",
      "By Fire-Arms                                       6294\n",
      "Paralysis                                          7286\n",
      "Not having Children(Barrenness/Impotency           7822\n",
      "By Jumping from (Building)                         7871\n",
      "By Jumping off Moving Vehicles/Trains              8116\n",
      "By Jumping from (Other sites)                      8127\n",
      "Illness (Aids/STD)                                 8723\n",
      "Cancer                                             9058\n",
      "By Other means                                     9238\n",
      "By Overdose of sleeping pills                      9960\n",
      "Death of Dear Person                              10321\n",
      "By touching electric wires                        10816\n",
      "Cancellation/Non-Settlement of Marriage           11296\n",
      "Retired Person                                    11334\n",
      "Professional/Career Problem                       12554\n",
      "Fall in Social Reputation                         13464\n",
      "Suspected/Illicit Relation                        14911\n",
      "By Over Alcoholism                                15973\n",
      "Property Dispute                                  18652\n",
      "Post Graduate and Above                           22425\n",
      "Service (Government)                              23325\n",
      "Failure in Examination                            27005\n",
      "...                                                 ...\n",
      "By coming under running vehicles/trains           45299\n",
      "Divorcee                                          45816\n",
      "Student                                           74323\n",
      "Self-employed (Business activity)                 78112\n",
      "Graduate                                          93822\n",
      "Insanity/Mental Illness                           94229\n",
      "By Drowning                                       96711\n",
      "Unemployed                                       114374\n",
      "Seperated                                        115413\n",
      "Service (Private)                                115472\n",
      "By Fire/Self Immolation                          128006\n",
      "By Other means (please specify)                  135132\n",
      "Widowed/Widower                                  186339\n",
      "Other Prolonged Illness                          194565\n",
      "Farming/Agriculture Activity                     197923\n",
      "Other Causes (Please Specity)                    216050\n",
      "By Consuming Other Poison                        231178\n",
      "Causes Not known                                 237069\n",
      "By Consuming Insecticides                        275501\n",
      "House Wife                                       285243\n",
      "Family Problems                                  341952\n",
      "Hr. Secondary/Intermediate/Pre-Universit         356724\n",
      "By Hanging                                       460955\n",
      "Others (Please Specify)                          469147\n",
      "Matriculate/Secondary                            769698\n",
      "Never Married                                    954903\n",
      "No Education                                     965271\n",
      "Middle                                          1028913\n",
      "Primary                                         1088481\n",
      "Married                                         3065322\n",
      "\n",
      "[69 rows x 1 columns]\n"
     ]
    },
    {
     "data": {
      "text/plain": [
       "<matplotlib.axes._subplots.AxesSubplot at 0x1d389c34a20>"
      ]
     },
     "execution_count": 38,
     "metadata": {},
     "output_type": "execute_result"
    },
    {
     "data": {
      "image/png": "[encoded data removed]",
      "text/plain": [
       "<Figure size 432x288 with 1 Axes>"
      ]
     },
     "metadata": {},
     "output_type": "display_data"
    },
    {
     "data": {
      "image/png": "[encoded data removed]",
      "text/plain": [
       "<Figure size 432x288 with 1 Axes>"
      ]
     },
     "metadata": {},
     "output_type": "display_data"
    }
   ],
   "source": [
    "typesofdeads=df.groupby('Type').agg({'Total': 'sum'})\n",
    "typesofdeads1=typesofdeads.sort_values('Total',axis=0)\n",
    "print(typesofdeads1)\n",
    "\n",
    "df.groupby('Type').agg({'Total': 'sum'}).plot()\n",
    "typesofdeads1.plot()\n"
   ]
  },
  {
   "cell_type": "code",
   "execution_count": 39,
   "metadata": {},
   "outputs": [
    {
     "data": {
      "text/plain": [
       "<matplotlib.axes._subplots.AxesSubplot at 0x1d388c42748>"
      ]
     },
     "execution_count": 39,
     "metadata": {},
     "output_type": "execute_result"
    },
    {
     "data": {
      "image/png": "[encoded data removed]",
      "text/plain": [
       "<Figure size 432x288 with 1 Axes>"
      ]
     },
     "metadata": {},
     "output_type": "display_data"
    }
   ],
   "source": [
    "df.groupby('Age_group').agg({'Total': 'sum'})\n",
    "df.groupby('Year').agg({'Total': 'sum'}).plot()\n"
   ]
  },
  {
   "cell_type": "code",
   "execution_count": null,
   "metadata": {},
   "outputs": [],
   "source": []
  }
 ],
 "metadata": {
  "kernelspec": {
   "display_name": "Python 3",
   "language": "python",
   "name": "python3"
  },
  "language_info": {
   "codemirror_mode": {
    "name": "ipython",
    "version": 3
   },
   "file_extension": ".py",
   "mimetype": "text/x-python",
   "name": "python",
   "nbconvert_exporter": "python",
   "pygments_lexer": "ipython3",
   "version": "3.6.5"
  }
 },
 "nbformat": 4,
 "nbformat_minor": 2
}
